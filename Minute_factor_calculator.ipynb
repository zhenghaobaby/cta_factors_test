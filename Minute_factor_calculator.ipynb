{
 "cells": [
  {
   "cell_type": "code",
   "execution_count": 15,
   "id": "1419831d-e252-477b-87da-8877d0cfb893",
   "metadata": {},
   "outputs": [
    {
     "name": "stdout",
     "output_type": "stream",
     "text": [
      "The autoreload extension is already loaded. To reload it, use:\n",
      "  %reload_ext autoreload\n"
     ]
    },
    {
     "name": "stderr",
     "output_type": "stream",
     "text": [
      "C:\\Users\\zhengh\\AppData\\Local\\Temp\\ipykernel_5852\\571802857.py:19: MatplotlibDeprecationWarning: The seaborn styles shipped by Matplotlib are deprecated since 3.6, as they no longer correspond to the styles shipped by seaborn. However, they will remain available as 'seaborn-v0_8-<style>'. Alternatively, directly use the seaborn API instead.\n",
      "  plt.style.use('seaborn-whitegrid')\n"
     ]
    }
   ],
   "source": [
    "%load_ext autoreload\n",
    "%autoreload 2\n",
    "import pandas as pd\n",
    "import json\n",
    "from data_loader import DataFetcher\n",
    "from auxiliary import multask\n",
    "from indicators import *\n",
    "import multiprocessing\n",
    "import re\n",
    "import os\n",
    "from Minute_factor_calculator import *\n",
    "from indicator_analyzer import *\n",
    "import multiprocessing as mp\n",
    "from functools import partial\n",
    "\n",
    "\n",
    "import matplotlib.pyplot as plt \n",
    "%matplotlib inline \n",
    "plt.style.use('seaborn-whitegrid')\n",
    "plt.rcParams['font.family'] = 'SimHei'\n",
    "plt.rcParams['axes.unicode_minus'] = False\n",
    "plt.rcParams['figure.figsize'] = (21, 10) \n",
    "\n",
    "plt.rcParams.update({'font.size':18})\n",
    "plt.rc('xtick', labelsize=12) \n",
    "plt.rc('ytick', labelsize=16) "
   ]
  },
  {
   "cell_type": "markdown",
   "id": "fb568808-fc87-4639-8c55-dee9e9796ede",
   "metadata": {},
   "source": [
    "## 加载数据"
   ]
  },
  {
   "cell_type": "code",
   "execution_count": 11,
   "id": "cade01c0-1b3a-43fd-aa84-3c0e83c47629",
   "metadata": {},
   "outputs": [],
   "source": [
    "## 加载数据和初始化数据接口\n",
    "tradingday = pd.read_csv(\"all_tradeday.csv\",index_col=0,parse_dates=[0])\n",
    "data_fetcher = DataFetcher()\n",
    "freq_list = ['Open-1DOpen', 'Open-2DOpen', 'Open-3DOpen', 'Open-4DOpen', 'Open-5DOpen',\n",
    "                  'Open-1DClose', 'Open-5DClose',\n",
    "                  'MorningOpen-1DMorningOpen', 'MorningOpen-2DMorningOpen', 'MorningOpen-3DMorningOpen',\n",
    "                  'MorningOpen-4DMorningOpen', 'MorningOpen-5DMorningOpen', ]\n",
    "his_data = {}\n",
    "for k in freq_list:\n",
    "    his_data[k] = pd.read_csv(\"ret_cache/\" + k + \".csv\", index_col=0, parse_dates=[0])\n"
   ]
  },
  {
   "cell_type": "markdown",
   "id": "65db09b2-4a85-45f3-bb03-80eddde7fa78",
   "metadata": {},
   "source": [
    "## 编辑因子表达式"
   ]
  },
  {
   "cell_type": "code",
   "execution_count": 12,
   "id": "67f69643-0c9c-4a1f-82f1-bbce965390b8",
   "metadata": {},
   "outputs": [],
   "source": [
    "start_date = \"2015-01-01\"\n",
    "end_date = \"2023-01-01\"\n",
    "datelist = list(tradingday.loc[start_date:end_date].index)\n",
    "factor_formula = {\n",
    "    'rv_umd':  'up_down_diff(ret(get_day_period(close(df)),1),0,std)',\n",
    "    'rv_umd_u':  'up_down_diff_u(ret(get_day_period(close(df)),1),0,std)',\n",
    "    'rv_umd_d':  'up_down_diff_d(ret(get_day_period(close(df)),1),0,std)',\n",
    "    'rv_umd_ud':  'up_down_diff_ud(ret(get_day_period(close(df)),1),0,std)',\n",
    "}\n",
    "factor_rolling_method = {\n",
    "    'rv_umd': 'MA-10',\n",
    "}\n",
    "\n",
    "task_list = { key:[] for key in factor_formula.keys()}\n"
   ]
  },
  {
   "cell_type": "code",
   "execution_count": 13,
   "id": "8e0c79e1-e14d-4628-a295-30bdb442f8c7",
   "metadata": {},
   "outputs": [],
   "source": [
    "# 生成\n",
    "for date in datelist:\n",
    "    # 加载当日量价数据,统一加载\n",
    "    dominant_code = data_fetcher.get_dominant_code(date)\n",
    "    data = data_fetcher.get_price_ohlc_data(date = date)\n",
    "    for factor,inputstr in factor_formula.items():\n",
    "        if factor in ['cangdan','cangdan_huanbi']:\n",
    "            data_input = data_fetcher.get_cangdan_data(date)\n",
    "        elif factor in ['member_oi']:\n",
    "            data_input = data_fetcher.get_member_oi_data(date)\n",
    "        elif factor in ['jicha_mom']:\n",
    "            data_input = data_fetcher.get_yuecha_ratio(date,method='raw_mom')\n",
    "        elif factor in ['kucun_tongbi','kucun_shuiwei','kucun_huanbi_week','kucun_huanbi_month','kucun_huanbi_diff_week','kucun_huanbi_diff_month']:\n",
    "            data_input = data_fetcher.get_kucun_data(date,method=factor[6:])\n",
    "        else:\n",
    "            data_input = data\n",
    "        temp = {\n",
    "            'date': date,\n",
    "            'df': data_input,\n",
    "            'inputstr': inputstr,\n",
    "            'codes': dominant_code,\n",
    "        }\n",
    "        task_list[factor].append(temp)\n",
    "\n"
   ]
  },
  {
   "cell_type": "markdown",
   "id": "83a4b71f-da7a-432b-aaed-3affc4270404",
   "metadata": {},
   "source": [
    "## 因子计算，输出分组信息"
   ]
  },
  {
   "cell_type": "code",
   "execution_count": 14,
   "id": "edfca432-8ddb-420e-8458-97fc86f71846",
   "metadata": {},
   "outputs": [
    {
     "name": "stdout",
     "output_type": "stream",
     "text": [
      "rv_umd\n"
     ]
    },
    {
     "ename": "ValueError",
     "evalue": "No objects to concatenate",
     "output_type": "error",
     "traceback": [
      "\u001b[1;31m---------------------------------------------------------------------------\u001b[0m",
      "\u001b[1;31mValueError\u001b[0m                                Traceback (most recent call last)",
      "Cell \u001b[1;32mIn[14], line 4\u001b[0m\n\u001b[0;32m      2\u001b[0m \u001b[38;5;28mprint\u001b[39m(key)\n\u001b[0;32m      3\u001b[0m res \u001b[38;5;241m=\u001b[39m multask(tasks\u001b[38;5;241m=\u001b[39mtasks, func\u001b[38;5;241m=\u001b[39mparse_func)\n\u001b[1;32m----> 4\u001b[0m res \u001b[38;5;241m=\u001b[39m \u001b[43mpd\u001b[49m\u001b[38;5;241;43m.\u001b[39;49m\u001b[43mconcat\u001b[49m\u001b[43m(\u001b[49m\u001b[43mres\u001b[49m\u001b[43m,\u001b[49m\u001b[43maxis\u001b[49m\u001b[38;5;241;43m=\u001b[39;49m\u001b[38;5;241;43m0\u001b[39;49m\u001b[43m)\u001b[49m\n\u001b[0;32m      5\u001b[0m res \u001b[38;5;241m=\u001b[39m res\u001b[38;5;241m.\u001b[39msort_index()\n\u001b[0;32m      6\u001b[0m res \u001b[38;5;241m=\u001b[39m processing_ind(res,factor_rolling_method[key])\n",
      "File \u001b[1;32m~\\AppData\\Roaming\\Python\\Python38\\site-packages\\pandas\\util\\_decorators.py:331\u001b[0m, in \u001b[0;36mdeprecate_nonkeyword_arguments.<locals>.decorate.<locals>.wrapper\u001b[1;34m(*args, **kwargs)\u001b[0m\n\u001b[0;32m    325\u001b[0m \u001b[38;5;28;01mif\u001b[39;00m \u001b[38;5;28mlen\u001b[39m(args) \u001b[38;5;241m>\u001b[39m num_allow_args:\n\u001b[0;32m    326\u001b[0m     warnings\u001b[38;5;241m.\u001b[39mwarn(\n\u001b[0;32m    327\u001b[0m         msg\u001b[38;5;241m.\u001b[39mformat(arguments\u001b[38;5;241m=\u001b[39m_format_argument_list(allow_args)),\n\u001b[0;32m    328\u001b[0m         \u001b[38;5;167;01mFutureWarning\u001b[39;00m,\n\u001b[0;32m    329\u001b[0m         stacklevel\u001b[38;5;241m=\u001b[39mfind_stack_level(),\n\u001b[0;32m    330\u001b[0m     )\n\u001b[1;32m--> 331\u001b[0m \u001b[38;5;28;01mreturn\u001b[39;00m \u001b[43mfunc\u001b[49m\u001b[43m(\u001b[49m\u001b[38;5;241;43m*\u001b[39;49m\u001b[43margs\u001b[49m\u001b[43m,\u001b[49m\u001b[43m \u001b[49m\u001b[38;5;241;43m*\u001b[39;49m\u001b[38;5;241;43m*\u001b[39;49m\u001b[43mkwargs\u001b[49m\u001b[43m)\u001b[49m\n",
      "File \u001b[1;32m~\\AppData\\Roaming\\Python\\Python38\\site-packages\\pandas\\core\\reshape\\concat.py:368\u001b[0m, in \u001b[0;36mconcat\u001b[1;34m(objs, axis, join, ignore_index, keys, levels, names, verify_integrity, sort, copy)\u001b[0m\n\u001b[0;32m    146\u001b[0m \u001b[38;5;129m@deprecate_nonkeyword_arguments\u001b[39m(version\u001b[38;5;241m=\u001b[39m\u001b[38;5;28;01mNone\u001b[39;00m, allowed_args\u001b[38;5;241m=\u001b[39m[\u001b[38;5;124m\"\u001b[39m\u001b[38;5;124mobjs\u001b[39m\u001b[38;5;124m\"\u001b[39m])\n\u001b[0;32m    147\u001b[0m \u001b[38;5;28;01mdef\u001b[39;00m \u001b[38;5;21mconcat\u001b[39m(\n\u001b[0;32m    148\u001b[0m     objs: Iterable[NDFrame] \u001b[38;5;241m|\u001b[39m Mapping[HashableT, NDFrame],\n\u001b[1;32m   (...)\u001b[0m\n\u001b[0;32m    157\u001b[0m     copy: \u001b[38;5;28mbool\u001b[39m \u001b[38;5;241m=\u001b[39m \u001b[38;5;28;01mTrue\u001b[39;00m,\n\u001b[0;32m    158\u001b[0m ) \u001b[38;5;241m-\u001b[39m\u001b[38;5;241m>\u001b[39m DataFrame \u001b[38;5;241m|\u001b[39m Series:\n\u001b[0;32m    159\u001b[0m \u001b[38;5;250m    \u001b[39m\u001b[38;5;124;03m\"\"\"\u001b[39;00m\n\u001b[0;32m    160\u001b[0m \u001b[38;5;124;03m    Concatenate pandas objects along a particular axis.\u001b[39;00m\n\u001b[0;32m    161\u001b[0m \n\u001b[1;32m   (...)\u001b[0m\n\u001b[0;32m    366\u001b[0m \u001b[38;5;124;03m    1   3   4\u001b[39;00m\n\u001b[0;32m    367\u001b[0m \u001b[38;5;124;03m    \"\"\"\u001b[39;00m\n\u001b[1;32m--> 368\u001b[0m     op \u001b[38;5;241m=\u001b[39m \u001b[43m_Concatenator\u001b[49m\u001b[43m(\u001b[49m\n\u001b[0;32m    369\u001b[0m \u001b[43m        \u001b[49m\u001b[43mobjs\u001b[49m\u001b[43m,\u001b[49m\n\u001b[0;32m    370\u001b[0m \u001b[43m        \u001b[49m\u001b[43maxis\u001b[49m\u001b[38;5;241;43m=\u001b[39;49m\u001b[43maxis\u001b[49m\u001b[43m,\u001b[49m\n\u001b[0;32m    371\u001b[0m \u001b[43m        \u001b[49m\u001b[43mignore_index\u001b[49m\u001b[38;5;241;43m=\u001b[39;49m\u001b[43mignore_index\u001b[49m\u001b[43m,\u001b[49m\n\u001b[0;32m    372\u001b[0m \u001b[43m        \u001b[49m\u001b[43mjoin\u001b[49m\u001b[38;5;241;43m=\u001b[39;49m\u001b[43mjoin\u001b[49m\u001b[43m,\u001b[49m\n\u001b[0;32m    373\u001b[0m \u001b[43m        \u001b[49m\u001b[43mkeys\u001b[49m\u001b[38;5;241;43m=\u001b[39;49m\u001b[43mkeys\u001b[49m\u001b[43m,\u001b[49m\n\u001b[0;32m    374\u001b[0m \u001b[43m        \u001b[49m\u001b[43mlevels\u001b[49m\u001b[38;5;241;43m=\u001b[39;49m\u001b[43mlevels\u001b[49m\u001b[43m,\u001b[49m\n\u001b[0;32m    375\u001b[0m \u001b[43m        \u001b[49m\u001b[43mnames\u001b[49m\u001b[38;5;241;43m=\u001b[39;49m\u001b[43mnames\u001b[49m\u001b[43m,\u001b[49m\n\u001b[0;32m    376\u001b[0m \u001b[43m        \u001b[49m\u001b[43mverify_integrity\u001b[49m\u001b[38;5;241;43m=\u001b[39;49m\u001b[43mverify_integrity\u001b[49m\u001b[43m,\u001b[49m\n\u001b[0;32m    377\u001b[0m \u001b[43m        \u001b[49m\u001b[43mcopy\u001b[49m\u001b[38;5;241;43m=\u001b[39;49m\u001b[43mcopy\u001b[49m\u001b[43m,\u001b[49m\n\u001b[0;32m    378\u001b[0m \u001b[43m        \u001b[49m\u001b[43msort\u001b[49m\u001b[38;5;241;43m=\u001b[39;49m\u001b[43msort\u001b[49m\u001b[43m,\u001b[49m\n\u001b[0;32m    379\u001b[0m \u001b[43m    \u001b[49m\u001b[43m)\u001b[49m\n\u001b[0;32m    381\u001b[0m     \u001b[38;5;28;01mreturn\u001b[39;00m op\u001b[38;5;241m.\u001b[39mget_result()\n",
      "File \u001b[1;32m~\\AppData\\Roaming\\Python\\Python38\\site-packages\\pandas\\core\\reshape\\concat.py:425\u001b[0m, in \u001b[0;36m_Concatenator.__init__\u001b[1;34m(self, objs, axis, join, keys, levels, names, ignore_index, verify_integrity, copy, sort)\u001b[0m\n\u001b[0;32m    422\u001b[0m     objs \u001b[38;5;241m=\u001b[39m \u001b[38;5;28mlist\u001b[39m(objs)\n\u001b[0;32m    424\u001b[0m \u001b[38;5;28;01mif\u001b[39;00m \u001b[38;5;28mlen\u001b[39m(objs) \u001b[38;5;241m==\u001b[39m \u001b[38;5;241m0\u001b[39m:\n\u001b[1;32m--> 425\u001b[0m     \u001b[38;5;28;01mraise\u001b[39;00m \u001b[38;5;167;01mValueError\u001b[39;00m(\u001b[38;5;124m\"\u001b[39m\u001b[38;5;124mNo objects to concatenate\u001b[39m\u001b[38;5;124m\"\u001b[39m)\n\u001b[0;32m    427\u001b[0m \u001b[38;5;28;01mif\u001b[39;00m keys \u001b[38;5;129;01mis\u001b[39;00m \u001b[38;5;28;01mNone\u001b[39;00m:\n\u001b[0;32m    428\u001b[0m     objs \u001b[38;5;241m=\u001b[39m \u001b[38;5;28mlist\u001b[39m(com\u001b[38;5;241m.\u001b[39mnot_none(\u001b[38;5;241m*\u001b[39mobjs))\n",
      "\u001b[1;31mValueError\u001b[0m: No objects to concatenate"
     ]
    }
   ],
   "source": [
    "for key,tasks in task_list.items():\n",
    "    print(key)\n",
    "    res = multask(tasks=tasks, func=parse_func)\n",
    "    res = pd.concat(res,axis=0)\n",
    "    res = res.sort_index()\n",
    "    res = processing_ind(res,factor_rolling_method[key])\n",
    "    group_res = res.apply(lambda x:handle_one_bar(x,5),axis=1)\n",
    "    file_dir = f'factor_res/{key}'\n",
    "    if not os.path.exists(file_dir):\n",
    "        os.makedirs(file_dir, exist_ok=True)\n",
    "\n",
    "    res.to_csv(file_dir + f\"/{key}_val.csv\")\n",
    "    group_res.to_csv(file_dir + f\"/{key}_group.csv\")"
   ]
  },
  {
   "cell_type": "code",
   "execution_count": null,
   "id": "26688b78-0dc6-4705-b4ff-aa247648578b",
   "metadata": {},
   "outputs": [],
   "source": []
  },
  {
   "cell_type": "markdown",
   "id": "bf73d009-f88b-468b-9ad4-10caba80241c",
   "metadata": {},
   "source": [
    "## 生成报告"
   ]
  },
  {
   "cell_type": "code",
   "execution_count": null,
   "id": "3badb4dc-a78a-4f5f-8cac-9f6d4855d7b8",
   "metadata": {},
   "outputs": [],
   "source": [
    "factors = list(factor_formula.keys())\n",
    "generator_report_partial = partial(generator_report,data=his_data,start_date=\"2015-01-01\",end_date='2023-01-01')\n",
    "pool = mp.Pool(processes=8)\n",
    "pool.map(generator_report_partial,factors)\n",
    "pool.close()\n",
    "pool.join()"
   ]
  }
 ],
 "metadata": {
  "kernelspec": {
   "display_name": "base",
   "language": "python",
   "name": "base"
  },
  "language_info": {
   "codemirror_mode": {
    "name": "ipython",
    "version": 3
   },
   "file_extension": ".py",
   "mimetype": "text/x-python",
   "name": "python",
   "nbconvert_exporter": "python",
   "pygments_lexer": "ipython3",
   "version": "3.8.8"
  }
 },
 "nbformat": 4,
 "nbformat_minor": 5
}
